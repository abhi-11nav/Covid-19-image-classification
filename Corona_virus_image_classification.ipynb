{
  "nbformat": 4,
  "nbformat_minor": 0,
  "metadata": {
    "colab": {
      "name": "Corona-virus image classification.ipynb",
      "provenance": [],
      "mount_file_id": "1LGhdMifZsofsEgkq4ozlwwqETeL5n76v",
      "authorship_tag": "ABX9TyPUjEGd12wH8u87xdTQR7xb",
      "include_colab_link": true
    },
    "kernelspec": {
      "name": "python3",
      "display_name": "Python 3"
    },
    "language_info": {
      "name": "python"
    },
    "accelerator": "GPU",
    "gpuClass": "standard"
  },
  "cells": [
    {
      "cell_type": "markdown",
      "metadata": {
        "id": "view-in-github",
        "colab_type": "text"
      },
      "source": [
        "<a href=\"https://colab.research.google.com/github/abhi-11nav/Covid-19-image-classification/blob/main/Corona_virus_image_classification.ipynb\" target=\"_parent\"><img src=\"https://colab.research.google.com/assets/colab-badge.svg\" alt=\"Open In Colab\"/></a>"
      ]
    },
    {
      "cell_type": "markdown",
      "source": [
        "### Dataset Credits :\n",
        "\n",
        "https://www.kaggle.com/datasets/pranavraikokte/covid19-image-dataset?"
      ],
      "metadata": {
        "id": "Rp1wViNUyTlq"
      }
    },
    {
      "cell_type": "code",
      "source": [
        "# Storing the path of the data on google drive\n",
        "\n",
        "train_path = \"/content/drive/MyDrive/Covid19-dataset/train\"\n",
        "test_path = \"/content/drive/MyDrive/Covid19-dataset/test\""
      ],
      "metadata": {
        "id": "-p9yHBr-yXOq"
      },
      "execution_count": 1,
      "outputs": []
    },
    {
      "cell_type": "code",
      "source": [
        "# Importing the libraries required in builidng the model \n",
        "\n",
        "import pandas as pd\n",
        "import numpy as np \n",
        "\n",
        "import tensorflow as tf\n",
        "from tensorflow import keras\n",
        "\n",
        "from tensorflow.keras.layers import Dense, Input, Flatten, Lambda, Conv2D, MaxPool2D\n",
        "from tensorflow.keras.models import Model, Sequential \n",
        "from tensorflow.keras.applications.vgg16 import VGG16\n",
        "\n",
        "from tensorflow.keras.preprocessing import image \n",
        "from tensorflow.keras.preprocessing.image import ImageDataGenerator, load_img\n",
        "from glob import glob\n",
        " \n",
        "import matplotlib.pyplot as plt\n",
        "%matplotlib inline \n",
        "import seaborn as sns "
      ],
      "metadata": {
        "id": "HBcDSR5Uy-SZ"
      },
      "execution_count": 2,
      "outputs": []
    },
    {
      "cell_type": "code",
      "source": [
        "# Specifying the size of the image \n",
        "\n",
        "image_size = [224,224]"
      ],
      "metadata": {
        "id": "I9bkhfPC1T4L"
      },
      "execution_count": 3,
      "outputs": []
    },
    {
      "cell_type": "code",
      "source": [
        "# Storing the number of images to classify  \n",
        "\n",
        "output_len = len(glob(train_path+\"/*\"))\n",
        "\n",
        "print(\"There are \",output_len,\" images to classify. \")"
      ],
      "metadata": {
        "colab": {
          "base_uri": "https://localhost:8080/"
        },
        "id": "QPrZjZ3M2Gzo",
        "outputId": "48a984da-9952-4ca7-d019-55a7130f1568"
      },
      "execution_count": 4,
      "outputs": [
        {
          "output_type": "stream",
          "name": "stdout",
          "text": [
            "There are  3  images to classify. \n"
          ]
        }
      ]
    },
    {
      "cell_type": "code",
      "source": [
        "# Data Augmentation \n",
        "\n",
        "train_datagen = ImageDataGenerator(rescale=1./255,\n",
        "                                  shear_range=0.3,\n",
        "                                  zoom_range=0.3,\n",
        "                                  horizontal_flip=True,\n",
        "                                  vertical_flip=True)\n",
        "test_datagen = ImageDataGenerator(rescale=1./255)"
      ],
      "metadata": {
        "id": "3X_dzYjm2gY1"
      },
      "execution_count": 5,
      "outputs": []
    },
    {
      "cell_type": "code",
      "source": [
        "training_set = train_datagen.flow_from_directory(train_path,\n",
        "                                                    target_size=(224,224),\n",
        "                                                    batch_size=16,\n",
        "                                                    class_mode=\"categorical\")"
      ],
      "metadata": {
        "colab": {
          "base_uri": "https://localhost:8080/"
        },
        "id": "HHx9Ov1F5N_3",
        "outputId": "ccd37fc1-cf9a-49d6-e8c5-afd58a8aa03a"
      },
      "execution_count": 6,
      "outputs": [
        {
          "output_type": "stream",
          "name": "stdout",
          "text": [
            "Found 251 images belonging to 3 classes.\n"
          ]
        }
      ]
    },
    {
      "cell_type": "code",
      "source": [
        "test_set = test_datagen.flow_from_directory(test_path,\n",
        "                                            target_size=(224,224),\n",
        "                                            batch_size=16,\n",
        "                                            class_mode=\"categorical\")"
      ],
      "metadata": {
        "colab": {
          "base_uri": "https://localhost:8080/"
        },
        "id": "5nKqfWWI6FAW",
        "outputId": "27b6c261-a944-4423-b85c-18bfc47b4822"
      },
      "execution_count": 7,
      "outputs": [
        {
          "output_type": "stream",
          "name": "stdout",
          "text": [
            "Found 66 images belonging to 3 classes.\n"
          ]
        }
      ]
    },
    {
      "cell_type": "code",
      "source": [
        "# Building the model \n",
        "\n",
        "vgg16 = VGG16(include_top=False,input_shape=image_size+[3],)"
      ],
      "metadata": {
        "colab": {
          "base_uri": "https://localhost:8080/"
        },
        "id": "T9QgxDH-6pxk",
        "outputId": "64c76ac4-9127-4816-e060-84330353091a"
      },
      "execution_count": 8,
      "outputs": [
        {
          "output_type": "stream",
          "name": "stdout",
          "text": [
            "Downloading data from https://storage.googleapis.com/tensorflow/keras-applications/vgg16/vgg16_weights_tf_dim_ordering_tf_kernels_notop.h5\n",
            "58892288/58889256 [==============================] - 0s 0us/step\n",
            "58900480/58889256 [==============================] - 0s 0us/step\n"
          ]
        }
      ]
    },
    {
      "cell_type": "code",
      "source": [
        "for layers in vgg16.layers:\n",
        "  layers.trainable = False"
      ],
      "metadata": {
        "id": "mWL290he7Shs"
      },
      "execution_count": 9,
      "outputs": []
    },
    {
      "cell_type": "code",
      "source": [
        "x = Flatten()(vgg16.output)"
      ],
      "metadata": {
        "id": "mI1uL7UV7aOW"
      },
      "execution_count": 10,
      "outputs": []
    },
    {
      "cell_type": "code",
      "source": [
        "prediction = Dense(output_len, activation=\"softmax\")(x)\n",
        "\n",
        "model = Model(inputs= vgg16.input, outputs=prediction)"
      ],
      "metadata": {
        "id": "7TQlcBd093k8"
      },
      "execution_count": 11,
      "outputs": []
    },
    {
      "cell_type": "code",
      "source": [
        "model.summary()"
      ],
      "metadata": {
        "colab": {
          "base_uri": "https://localhost:8080/"
        },
        "id": "dVXJREi0-I2u",
        "outputId": "2c6db2d7-c9e4-45ac-b8da-aa7478885345"
      },
      "execution_count": 12,
      "outputs": [
        {
          "output_type": "stream",
          "name": "stdout",
          "text": [
            "Model: \"model\"\n",
            "_________________________________________________________________\n",
            " Layer (type)                Output Shape              Param #   \n",
            "=================================================================\n",
            " input_1 (InputLayer)        [(None, 224, 224, 3)]     0         \n",
            "                                                                 \n",
            " block1_conv1 (Conv2D)       (None, 224, 224, 64)      1792      \n",
            "                                                                 \n",
            " block1_conv2 (Conv2D)       (None, 224, 224, 64)      36928     \n",
            "                                                                 \n",
            " block1_pool (MaxPooling2D)  (None, 112, 112, 64)      0         \n",
            "                                                                 \n",
            " block2_conv1 (Conv2D)       (None, 112, 112, 128)     73856     \n",
            "                                                                 \n",
            " block2_conv2 (Conv2D)       (None, 112, 112, 128)     147584    \n",
            "                                                                 \n",
            " block2_pool (MaxPooling2D)  (None, 56, 56, 128)       0         \n",
            "                                                                 \n",
            " block3_conv1 (Conv2D)       (None, 56, 56, 256)       295168    \n",
            "                                                                 \n",
            " block3_conv2 (Conv2D)       (None, 56, 56, 256)       590080    \n",
            "                                                                 \n",
            " block3_conv3 (Conv2D)       (None, 56, 56, 256)       590080    \n",
            "                                                                 \n",
            " block3_pool (MaxPooling2D)  (None, 28, 28, 256)       0         \n",
            "                                                                 \n",
            " block4_conv1 (Conv2D)       (None, 28, 28, 512)       1180160   \n",
            "                                                                 \n",
            " block4_conv2 (Conv2D)       (None, 28, 28, 512)       2359808   \n",
            "                                                                 \n",
            " block4_conv3 (Conv2D)       (None, 28, 28, 512)       2359808   \n",
            "                                                                 \n",
            " block4_pool (MaxPooling2D)  (None, 14, 14, 512)       0         \n",
            "                                                                 \n",
            " block5_conv1 (Conv2D)       (None, 14, 14, 512)       2359808   \n",
            "                                                                 \n",
            " block5_conv2 (Conv2D)       (None, 14, 14, 512)       2359808   \n",
            "                                                                 \n",
            " block5_conv3 (Conv2D)       (None, 14, 14, 512)       2359808   \n",
            "                                                                 \n",
            " block5_pool (MaxPooling2D)  (None, 7, 7, 512)         0         \n",
            "                                                                 \n",
            " flatten (Flatten)           (None, 25088)             0         \n",
            "                                                                 \n",
            " dense (Dense)               (None, 3)                 75267     \n",
            "                                                                 \n",
            "=================================================================\n",
            "Total params: 14,789,955\n",
            "Trainable params: 75,267\n",
            "Non-trainable params: 14,714,688\n",
            "_________________________________________________________________\n"
          ]
        }
      ]
    },
    {
      "cell_type": "code",
      "source": [
        "model.compile(optimizer=\"adam\", loss=\"categorical_crossentropy\",metrics=[\"accuracy\"])"
      ],
      "metadata": {
        "id": "BuIApBGM_5is"
      },
      "execution_count": 13,
      "outputs": []
    },
    {
      "cell_type": "code",
      "source": [
        "history = model.fit(training_set,validation_data=test_set, epochs=10)"
      ],
      "metadata": {
        "colab": {
          "base_uri": "https://localhost:8080/"
        },
        "id": "Dt2lGsmD_Njf",
        "outputId": "524315ef-df2a-452e-bfa7-821d34cf432d"
      },
      "execution_count": 14,
      "outputs": [
        {
          "output_type": "stream",
          "name": "stdout",
          "text": [
            "Epoch 1/10\n",
            "16/16 [==============================] - 170s 10s/step - loss: 1.2159 - accuracy: 0.5179 - val_loss: 0.6548 - val_accuracy: 0.6970\n",
            "Epoch 2/10\n",
            "16/16 [==============================] - 14s 864ms/step - loss: 0.5055 - accuracy: 0.7968 - val_loss: 0.5661 - val_accuracy: 0.7576\n",
            "Epoch 3/10\n",
            "16/16 [==============================] - 14s 867ms/step - loss: 0.3103 - accuracy: 0.8845 - val_loss: 0.2235 - val_accuracy: 0.8939\n",
            "Epoch 4/10\n",
            "16/16 [==============================] - 14s 853ms/step - loss: 0.2349 - accuracy: 0.9004 - val_loss: 0.2860 - val_accuracy: 0.8788\n",
            "Epoch 5/10\n",
            "16/16 [==============================] - 14s 866ms/step - loss: 0.1765 - accuracy: 0.9283 - val_loss: 0.1826 - val_accuracy: 0.9091\n",
            "Epoch 6/10\n",
            "16/16 [==============================] - 14s 867ms/step - loss: 0.1951 - accuracy: 0.9243 - val_loss: 0.2723 - val_accuracy: 0.8636\n",
            "Epoch 7/10\n",
            "16/16 [==============================] - 14s 883ms/step - loss: 0.1857 - accuracy: 0.9243 - val_loss: 0.2721 - val_accuracy: 0.8485\n",
            "Epoch 8/10\n",
            "16/16 [==============================] - 14s 870ms/step - loss: 0.1360 - accuracy: 0.9681 - val_loss: 0.1700 - val_accuracy: 0.9242\n",
            "Epoch 9/10\n",
            "16/16 [==============================] - 14s 859ms/step - loss: 0.1316 - accuracy: 0.9442 - val_loss: 0.1697 - val_accuracy: 0.9242\n",
            "Epoch 10/10\n",
            "16/16 [==============================] - 14s 888ms/step - loss: 0.1628 - accuracy: 0.9323 - val_loss: 0.2427 - val_accuracy: 0.9091\n"
          ]
        }
      ]
    },
    {
      "cell_type": "code",
      "source": [
        "plt.plot(history.history[\"val_accuracy\"])\n",
        "plt.plot(history.history[\"accuracy\"])"
      ],
      "metadata": {
        "id": "DZ24qdqS_2yI",
        "colab": {
          "base_uri": "https://localhost:8080/",
          "height": 282
        },
        "outputId": "c97904fe-b961-47f2-e0b6-287d6e499efe"
      },
      "execution_count": 19,
      "outputs": [
        {
          "output_type": "execute_result",
          "data": {
            "text/plain": [
              "[<matplotlib.lines.Line2D at 0x7f116520b050>]"
            ]
          },
          "metadata": {},
          "execution_count": 19
        },
        {
          "output_type": "display_data",
          "data": {
            "text/plain": [
              "<Figure size 432x288 with 1 Axes>"
            ],
            "image/png": "[encoded data removed]"
          },
          "metadata": {
            "needs_background": "light"
          }
        }
      ]
    },
    {
      "cell_type": "code",
      "source": [
        "plt.plot(history.history[\"loss\"])\n",
        "plt.plot(history.history[\"val_loss\"])"
      ],
      "metadata": {
        "colab": {
          "base_uri": "https://localhost:8080/",
          "height": 282
        },
        "id": "_fme76ZUKH6u",
        "outputId": "27f629ea-31e5-49f5-ec78-552e4b4c4fde"
      },
      "execution_count": 20,
      "outputs": [
        {
          "output_type": "execute_result",
          "data": {
            "text/plain": [
              "[<matplotlib.lines.Line2D at 0x7f1165115150>]"
            ]
          },
          "metadata": {},
          "execution_count": 20
        },
        {
          "output_type": "display_data",
          "data": {
            "text/plain": [
              "<Figure size 432x288 with 1 Axes>"
            ],
            "image/png": "[encoded data removed]"
          },
          "metadata": {
            "needs_background": "light"
          }
        }
      ]
    },
    {
      "cell_type": "code",
      "source": [
        ""
      ],
      "metadata": {
        "id": "RPExOrglKq2C"
      },
      "execution_count": null,
      "outputs": []
    }
  ]
}